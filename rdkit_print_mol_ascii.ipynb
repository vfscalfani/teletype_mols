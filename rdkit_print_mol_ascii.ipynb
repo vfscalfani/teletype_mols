{
 "cells": [
  {
   "cell_type": "code",
   "execution_count": 1,
   "metadata": {},
   "outputs": [],
   "source": [
    "# Vincent F. Scalfani\n",
    "# Ideas/TODO\n",
    "# [ ] - Figure out how to shrink the print area to get molecules smaller without distorting them too much\n",
    "# [ ] - Add color to atom symbols and maybe make print text bold\n",
    "# [ ] - Experiment with different symbols for bonds (e.g. single (-), double (=), triple (#), aromatic (:)"
   ]
  },
  {
   "cell_type": "code",
   "execution_count": 2,
   "metadata": {},
   "outputs": [],
   "source": [
    "from rdkit import Chem\n",
    "from rdkit.Chem import Draw\n",
    "from rdkit.Chem.Draw import rdMolDraw2D\n",
    "from rdkit.Chem import rdCoordGen\n",
    "from rdkit import Geometry\n",
    "from PIL import Image\n",
    "from io import BytesIO\n",
    "import numpy as np"
   ]
  },
  {
   "cell_type": "code",
   "execution_count": 3,
   "metadata": {},
   "outputs": [],
   "source": [
    "def draw_mol_coordgen(mol):   \n",
    "    #1. Draw mol with rdCoordGen\n",
    "    rdCoordGen.AddCoords(mol)\n",
    "    drawer = rdMolDraw2D.MolDraw2DCairo(400,400)\n",
    "    drawer.drawOptions().fixedBondLength = 40\n",
    "    drawer.DrawMolecule(mol)\n",
    "    drawer.FinishDrawing()\n",
    "    bio = BytesIO(drawer.GetDrawingText())\n",
    "    Img = Image.open(bio)\n",
    "    return Img"
   ]
  },
  {
   "cell_type": "code",
   "execution_count": 4,
   "metadata": {},
   "outputs": [],
   "source": [
    "def print_mol_ascii(mol):   \n",
    "    #1. Draw mol with rdCoordGen\n",
    "    rdCoordGen.AddCoords(mol)\n",
    "    drawer = rdMolDraw2D.MolDraw2DCairo(300,300)\n",
    "    drawer.drawOptions().fixedBondLength = 40\n",
    "    drawer.DrawMolecule(mol)\n",
    "    drawer.FinishDrawing()\n",
    "    \n",
    "    #2. Get atom x,y coordinates\n",
    "    # adapated from: https://gist.github.com/greglandrum/0c8b80825826392a6519af7519862baf\n",
    "    atom_index = []\n",
    "    atom_symbols = []\n",
    "    atom_xpos = []\n",
    "    atom_ypos = []\n",
    "    conf = mol.GetConformer()\n",
    "    for i in range(mol.GetNumAtoms()):\n",
    "        atom_index.append(i)\n",
    "        atom_symbols.append(mol.GetAtomWithIdx(i).GetSymbol())\n",
    "        pos_A = conf.GetAtomPosition(i)\n",
    "        pos_point = Geometry.Point2D(pos_A.x,pos_A.y)\n",
    "        dpos = drawer.GetDrawCoords(pos_point)      \n",
    "        atom_xpos.append(dpos.x)\n",
    "        atom_ypos.append(dpos.y)\n",
    "    \n",
    "    #3. Resize and shift coordinates   \n",
    "    atom_coords = list(zip(atom_xpos, atom_ypos))\n",
    "    # A scale between 1/12 and 1/20 seems to work okay without distorting printing aspect ratio\n",
    "    scale_atom_coords = [(p[0]/14, p[1]/14) for p in atom_coords]\n",
    "    round_atom_coords = [(round(p[0]), round(p[1])) for p in scale_atom_coords]\n",
    "    # Get min and max for x,y\n",
    "    xmin = min(c[0] for c in round_atom_coords)\n",
    "    xmax = max(c[0] for c in round_atom_coords)\n",
    "    ymin = min(c[1] for c in round_atom_coords)\n",
    "    ymax = max(c[1] for c in round_atom_coords)\n",
    "    # figure out what to substract to shift coordinates by a min\n",
    "    if xmin < ymin:\n",
    "        xymin = xmin\n",
    "    else:\n",
    "        xymin = ymin\n",
    "    # shift by xymin to move mol closer to origin\n",
    "    norm_atom_coords = [(p[0] - xymin, p[1] - xymin) for p in round_atom_coords]\n",
    "    \n",
    "    #4. Get Bond connection information for drawing bonds\n",
    "    atom_begin = []\n",
    "    atom_end = []\n",
    "    bond_type = []\n",
    "\n",
    "    for bond in mol.GetBonds():\n",
    "        atom_begin.append(bond.GetBeginAtomIdx())\n",
    "        atom_end.append(bond.GetEndAtomIdx())\n",
    "        bond_type.append(bond.GetBondTypeAsDouble()) # this could be used to define single, double, arom with symbols\n",
    "    \n",
    "    #5. Get coordinates of middle of bond for plotting\n",
    "    \n",
    "    begin_connection_xpos = []\n",
    "    begin_connection_ypos = []\n",
    "    for i in atom_begin:\n",
    "        begin_connection_xpos.append(norm_atom_coords[i][0])\n",
    "        begin_connection_ypos.append(norm_atom_coords[i][1])\n",
    "        \n",
    "    end_connection_xpos = []\n",
    "    end_connection_ypos = []\n",
    "    for i in atom_end:\n",
    "        end_connection_xpos.append(norm_atom_coords[i][0])\n",
    "        end_connection_ypos.append(norm_atom_coords[i][1])\n",
    "    \n",
    "    midx_bond = []\n",
    "    for x1,x2 in zip(begin_connection_xpos, end_connection_xpos):\n",
    "        middle = (x1+x2)/2\n",
    "        midx_bond.append(middle)\n",
    "\n",
    "    midy_bond = []\n",
    "    for y1,y2 in zip(begin_connection_ypos, end_connection_ypos):\n",
    "        middle = (y1+y2)/2\n",
    "        midy_bond.append(middle)\n",
    "    # xy coordinates of center of bonds (*) to plot\n",
    "    bond_center_points = list(zip(midx_bond,midy_bond))\n",
    "    \n",
    "    #6. Setup a max plotting print range based on coordinates\n",
    "    \n",
    "    if xmax > ymax:\n",
    "        xymax = xmax\n",
    "    else:\n",
    "        xymax = ymax\n",
    "    # this just gets the steps for x.y coordinates in increments of 0.5 for the print grid\n",
    "    start = 0\n",
    "    stop = round(xymax+1)\n",
    "    samples = round((stop*2)+1)\n",
    "    print_range = np.linspace(start,stop,samples)\n",
    "    \n",
    "    #7. Print the molecule!\n",
    "    # Adapted from: https://stackoverflow.com/questions/16240358/ascii-graph-in-python // https://creativecommons.org/licenses/by-sa/3.0/\n",
    "    bond_symbol = '*'\n",
    "    fill_symbol = ' '\n",
    "    for y in print_range:\n",
    "        chars = []\n",
    "        for x in print_range:\n",
    "            if (x,y) in norm_atom_coords:\n",
    "                index_value = norm_atom_coords.index((x,y))\n",
    "                chars.append(atom_symbols[index_value])\n",
    "            elif (x,y) in bond_center_points:\n",
    "                chars.append(bond_symbol)    \n",
    "            else:\n",
    "                chars.append(fill_symbol)\n",
    "        print(' '.join(chars))"
   ]
  },
  {
   "cell_type": "code",
   "execution_count": 5,
   "metadata": {},
   "outputs": [],
   "source": [
    "# Testing with some examples from here: \n",
    "# https://github.com/rdkit/UGM_2020/blob/master/Notebooks/Landrum_WhatsNew.ipynb\n",
    "\n",
    "m1 = Chem.MolFromSmiles('c1c[nH]cc1C(F)(F)F')\n",
    "doravirine = Chem.MolFromSmiles('Cn1c(n[nH]c1=O)Cn2ccc(c(c2=O)Oc3cc(cc(c3)Cl)C#N)C(F)(F)F')\n",
    "cyclosporine = Chem.MolFromSmiles('C/C=C/CC(C)C(O)C1C(=O)NC(CC)C(=O)N(C)CC(=O)N(C)C(CC(C)C)C(=O)NC(C(C)C)C(=O)N(C)C(CC(C)C)C(=O)NC(C)C(=O)NC(C)C(=O)N(C)C(CC(C)C)C(=O)N(C)C(CC(C)C)C(=O)N(C)C(C(C)C)C(=O)N1C')"
   ]
  },
  {
   "cell_type": "code",
   "execution_count": 6,
   "metadata": {},
   "outputs": [
    {
     "data": {
      "image/png": "[encoded data removed]",
      "text/plain": [
       "<PIL.PngImagePlugin.PngImageFile image mode=RGB size=400x400 at 0x7F3D1B31C7C0>"
      ]
     },
     "execution_count": 6,
     "metadata": {},
     "output_type": "execute_result"
    }
   ],
   "source": [
    "draw_mol_coordgen(m1)"
   ]
  },
  {
   "cell_type": "code",
   "execution_count": 7,
   "metadata": {},
   "outputs": [
    {
     "name": "stdout",
     "output_type": "stream",
     "text": [
      "                                                                 \n",
      "                                                                 \n",
      "                                                                 \n",
      "                                                                 \n",
      "                        C     *     C                            \n",
      "                                                                 \n",
      "                                      *                          \n",
      "                      *                                          \n",
      "                                        N                        \n",
      "                                                                 \n",
      "F                   C               *                            \n",
      "                          *                                      \n",
      "      *         *               C                                \n",
      "                                                                 \n",
      "            C                                                    \n",
      "                                                                 \n",
      "          *   *                                                  \n",
      "                                                                 \n",
      "        F       F                                                \n",
      "                                                                 \n",
      "                                                                 \n",
      "                                                                 \n",
      "                                                                 \n",
      "                                                                 \n",
      "                                                                 \n",
      "                                                                 \n",
      "                                                                 \n",
      "                                                                 \n",
      "                                                                 \n",
      "                                                                 \n",
      "                                                                 \n",
      "                                                                 \n",
      "                                                                 \n"
     ]
    }
   ],
   "source": [
    "print_mol_ascii(m1)"
   ]
  },
  {
   "cell_type": "code",
   "execution_count": 8,
   "metadata": {},
   "outputs": [
    {
     "data": {
      "image/png": "[encoded data removed]",
      "text/plain": [
       "<PIL.PngImagePlugin.PngImageFile image mode=RGB size=400x400 at 0x7F3D88516D30>"
      ]
     },
     "execution_count": 8,
     "metadata": {},
     "output_type": "execute_result"
    }
   ],
   "source": [
    "draw_mol_coordgen(doravirine)"
   ]
  },
  {
   "cell_type": "code",
   "execution_count": 9,
   "metadata": {},
   "outputs": [
    {
     "name": "stdout",
     "output_type": "stream",
     "text": [
      "                                                        O                            \n",
      "                                                                                     \n",
      "                                                    *                                \n",
      "                                                                                     \n",
      "                                        N   *   C                                    \n",
      "                                                                                     \n",
      "                                        *         *                                  \n",
      "                                                                                     \n",
      "                                        N           N                                \n",
      "                                          *     *       *                            \n",
      "                                            C               C                        \n",
      "                                                                                     \n",
      "                                            *                                        \n",
      "                                                                                     \n",
      "                                C           C                                        \n",
      "                            *       *     *                                          \n",
      "                        C               N                                            \n",
      "                                                                                     \n",
      "                        *               *                                            \n",
      "                                                                                     \n",
      "            F           C               C                                            \n",
      "                *     *     *       *     *                                          \n",
      "                    C           C           O                                        \n",
      "                                                                                     \n",
      "                  *   *         *                                   N                \n",
      "                                                                *                    \n",
      "                F       F       O           C               C                        \n",
      "                                    *     *     *       *                            \n",
      "                                        C           C                                \n",
      "                                                                                     \n",
      "                                        *           *                                \n",
      "                                                                                     \n",
      "                                        C           C                                \n",
      "                                          *     *                                    \n",
      "                                            C                                        \n",
      "                                                                                     \n",
      "                                            *                                        \n",
      "                                                                                     \n",
      "                                            Cl                                        \n",
      "                                                                                     \n",
      "                                                                                     \n",
      "                                                                                     \n",
      "                                                                                     \n"
     ]
    }
   ],
   "source": [
    "print_mol_ascii(doravirine)"
   ]
  },
  {
   "cell_type": "code",
   "execution_count": 10,
   "metadata": {},
   "outputs": [
    {
     "data": {
      "image/png": "[encoded data removed]",
      "text/plain": [
       "<PIL.PngImagePlugin.PngImageFile image mode=RGB size=400x400 at 0x7F3D8852F760>"
      ]
     },
     "execution_count": 10,
     "metadata": {},
     "output_type": "execute_result"
    }
   ],
   "source": [
    "draw_mol_coordgen(cyclosporine)"
   ]
  },
  {
   "cell_type": "code",
   "execution_count": 11,
   "metadata": {},
   "outputs": [
    {
     "name": "stdout",
     "output_type": "stream",
     "text": [
      "                                    C           O   C       C                        \n",
      "                                    *                 *   *                          \n",
      "                            O       C         *         C                            \n",
      "                              *   *   *                 *                            \n",
      "                    O           C       N * C           C                            \n",
      "                    *           *             *     *                                \n",
      "            C       C           N               C           C                        \n",
      "              *   *     *     *                 *                                    \n",
      "        C       N           C               C * N           *                        \n",
      "        *       *           *                     *                                  \n",
      "        C       C       O   C                       C * C * C * C                    \n",
      "      *   *   *   *   *                           *                                  \n",
      "    C       C       C                           O       *                            \n",
      "                    *                                                                \n",
      "    C       C       N                                   N * C   *   O                \n",
      "      *   *   *   *   *                                                              \n",
      "        C       C       C                           O       *           C            \n",
      "        *       *                                   *                   *            \n",
      "        C       C       C                   C       C       C   *   C * C            \n",
      "              *   *   *                   *       *   *   *               *          \n",
      "            O       N                   C       C       N                   C        \n",
      "                    *                   *       *       *                            \n",
      "            C       C           O       C       N       C                            \n",
      "              *   *   *     *         *   *   *   *                                  \n",
      "                C       C           N       C       C                                \n",
      "                *       *           *       *                                        \n",
      "                C       N           C       O                                        \n",
      "                      *     *     *   *                                              \n",
      "                    C           C       O                                            \n",
      "                                *                                                    \n",
      "                                C       C                                            \n",
      "                            *     *   *                                              \n",
      "                        O           C                                                \n",
      "                                    *                                                \n",
      "                                    C * C                                            \n",
      "                                                                                     \n",
      "                                        *                                            \n",
      "                                                                                     \n",
      "                                        C * C                                        \n",
      "                                                                                     \n",
      "                                                                                     \n",
      "                                                                                     \n",
      "                                                                                     \n"
     ]
    }
   ],
   "source": [
    "print_mol_ascii(cyclosporine)"
   ]
  },
  {
   "cell_type": "code",
   "execution_count": 12,
   "metadata": {},
   "outputs": [
    {
     "data": {
      "image/png": "[encoded data removed]",
      "text/plain": [
       "<PIL.PngImagePlugin.PngImageFile image mode=RGB size=400x400 at 0x7F3D88516760>"
      ]
     },
     "execution_count": 12,
     "metadata": {},
     "output_type": "execute_result"
    }
   ],
   "source": [
    "m2 = Chem.MolFromSmiles('C1CC(CCC1NCC2=C(C(=CC(=C2)Br)Br)N)O')\n",
    "draw_mol_coordgen(m2)\n"
   ]
  },
  {
   "cell_type": "code",
   "execution_count": 13,
   "metadata": {},
   "outputs": [
    {
     "name": "stdout",
     "output_type": "stream",
     "text": [
      "                                                                                     \n",
      "                                                                                     \n",
      "                                                                                     \n",
      "                                                                                     \n",
      "                                                                                     \n",
      "                                                                                     \n",
      "                                                                                     \n",
      "                                                                                     \n",
      "                                                        Br                            \n",
      "                                                                                     \n",
      "                                                        *                            \n",
      "                                                                                     \n",
      "                                                        C                            \n",
      "                                                    *       *                        \n",
      "                                                C               C                    \n",
      "                                                                                     \n",
      "                                                *               *                    \n",
      "                                                                                     \n",
      "                C               N               C               C                    \n",
      "            *       *       *       *       *       *       *       *                \n",
      "        C               C               C               C               Br            \n",
      "                                                                                     \n",
      "                                                                                     \n",
      "        *               *                               *                            \n",
      "                                                                                     \n",
      "                                                                                     \n",
      "        C               C                               N                            \n",
      "    *       *       *                                                                \n",
      "O               C                                                                    \n",
      "                                                                                     \n",
      "                                                                                     \n",
      "                                                                                     \n",
      "                                                                                     \n",
      "                                                                                     \n",
      "                                                                                     \n",
      "                                                                                     \n",
      "                                                                                     \n",
      "                                                                                     \n",
      "                                                                                     \n",
      "                                                                                     \n",
      "                                                                                     \n",
      "                                                                                     \n",
      "                                                                                     \n"
     ]
    }
   ],
   "source": [
    "print_mol_ascii(m2)"
   ]
  },
  {
   "cell_type": "code",
   "execution_count": null,
   "metadata": {},
   "outputs": [],
   "source": []
  }
 ],
 "metadata": {
  "kernelspec": {
   "display_name": "Python 3 (ipykernel)",
   "language": "python",
   "name": "python3"
  },
  "language_info": {
   "codemirror_mode": {
    "name": "ipython",
    "version": 3
   },
   "file_extension": ".py",
   "mimetype": "text/x-python",
   "name": "python",
   "nbconvert_exporter": "python",
   "pygments_lexer": "ipython3",
   "version": "3.9.7"
  }
 },
 "nbformat": 4,
 "nbformat_minor": 4
}
